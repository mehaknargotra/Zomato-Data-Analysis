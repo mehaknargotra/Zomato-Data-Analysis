{
 "cells": [
  {
   "cell_type": "code",
   "execution_count": 38,
   "metadata": {},
   "outputs": [
    {
     "name": "stdout",
     "output_type": "stream",
     "text": [
      "\u001b[33m*******\t*******\t*     *\t*******\t*******\t*******\n",
      "\u001b[32m     *\t*     *\t**   **\t*     *\t   *   \t*     *\n",
      "\u001b[36m    *\t*     *\t* * * *\t*     *\t   *   \t*     *\n",
      "\u001b[35m   *\t*     *\t*  *  *\t*******\t   *   \t*     *\n",
      "\u001b[34m  *\t*     *\t*     *\t*     *\t   *   \t*     *\n",
      "\u001b[37m *\t*     *\t*     *\t*     *\t   *   \t*     *\n",
      "\u001b[31m*******\t*******\t*     *\t*     *\t   *   \t*******\n"
     ]
    }
   ],
   "source": [
    "from colorama import Fore, Back, Style \n",
    "print(Fore.YELLOW +\"*******\"+'\\t'+  \"*******\"+'\\t'+    \"*     *\" +'\\t'+   \"*******\"  +'\\t'+ \"*******\" +'\\t'+ \"*******\" )                                                                           \n",
    "print(Fore.GREEN +\"     *\"+ '\\t'+  \"*     *\" +'\\t'+   \"**   **\" +'\\t'+   \"*     *\"  +'\\t'+ \"   *   \" +'\\t'+ \"*     *\" )                                                                  \n",
    "print(Fore.CYAN +\"    *\"+ '\\t'+   \"*     *\" +'\\t'+   \"* * * *\"  +'\\t'+  \"*     *\"  +'\\t'+ \"   *   \" +'\\t'+ \"*     *\" )                                                                             \n",
    "print(Fore.MAGENTA +\"   *\"+  '\\t'+   \"*     *\" +'\\t'+   \"*  *  *\"  +'\\t'+  \"*******\"  +'\\t'+ \"   *   \" +'\\t'+ \"*     *\" )                                                                               \n",
    "print(Fore.BLUE +\"  *\"+   '\\t'+   \"*     *\" +'\\t'+   \"*     *\"  +'\\t'+  \"*     *\"  +'\\t'+ \"   *   \" +'\\t'+ \"*     *\" )                                                                                \n",
    "print(Fore.WHITE +\" *\"+    '\\t'+   \"*     *\"  +'\\t'+  \"*     *\"  +'\\t'+  \"*     *\"  +'\\t'+ \"   *   \" +'\\t'+ \"*     *\" )                                                                            \n",
    "print(Fore.RED +\"*******\"+'\\t'+  \"*******\"+'\\t'+    \"*     *\"+'\\t'+    \"*     *\"  +'\\t'+ \"   *   \" +'\\t'+ \"*******\" )"
   ]
  },
  {
   "cell_type": "code",
   "execution_count": 31,
   "metadata": {},
   "outputs": [
    {
     "name": "stdout",
     "output_type": "stream",
     "text": [
      "\u001b[22m\u001b[41m\u001b[37m********\t********\t**    **\t********\t********\t********\n",
      "\u001b[22m\u001b[41m\u001b[37m********\t********\t**    **\t********\t********\t********\n",
      "\u001b[22m\u001b[41m\u001b[37m     ** \t**    **\t***  ***\t**    **\t   **   \t**    **\n",
      "\u001b[22m\u001b[41m\u001b[37m    **  \t**    **\t***  ***\t**    **\t   **   \t**    **\n",
      "\u001b[22m\u001b[41m\u001b[37m   **   \t**    **\t** ** **\t********\t   **   \t**    **\n",
      "\u001b[22m\u001b[41m\u001b[37m  **    \t**    **\t** *  **\t********\t   **   \t**    **\n",
      "\u001b[22m\u001b[41m\u001b[37m **     \t**    **\t**    **\t**    **\t   **   \t**    **\n",
      "\u001b[22m\u001b[41m\u001b[37m********\t********\t**    **\t**    **\t   **   \t********\n",
      "\u001b[22m\u001b[41m\u001b[37m********\t********\t**    **\t**    **\t   **   \t********\n"
     ]
    }
   ],
   "source": [
    "from colorama import Fore, Back, Style \n",
    "print(Style.NORMAL+Back.RED + Fore.WHITE +\"********\"+'\\t'+  \"********\"+'\\t'+    \"**    **\"+'\\t'+ \"********\"  +'\\t'+ \"********\" +'\\t'+ \"********\" )                                                                           \n",
    "print(Style.NORMAL+Back.RED + Fore.WHITE +\"********\"+'\\t'+  \"********\"+'\\t'+    \"**    **\"+'\\t'+ \"********\"  +'\\t'+ \"********\" +'\\t'+ \"********\" )           \n",
    "print(Style.NORMAL+Back.RED + Fore.WHITE +\"     ** \"+'\\t'+  \"**    **\" +'\\t'+   \"***  ***\"+'\\t'+ \"**    **\"  +'\\t'+ \"   **   \" +'\\t'+ \"**    **\" )                                                                  \n",
    "print(Style.NORMAL+Back.RED + Fore.WHITE +\"    **  \"+'\\t'+  \"**    **\" +'\\t'+   \"***  ***\"+'\\t'+ \"**    **\"  +'\\t'+ \"   **   \" +'\\t'+ \"**    **\" )                                                                             \n",
    "print(Style.NORMAL+Back.RED + Fore.WHITE +\"   **   \"+'\\t'+  \"**    **\" +'\\t'+   \"** ** **\"+'\\t'+ \"********\"  +'\\t'+ \"   **   \" +'\\t'+ \"**    **\" )                                                                               \n",
    "print(Style.NORMAL+Back.RED + Fore.WHITE +\"  **    \"+'\\t'+  \"**    **\" +'\\t'+   \"** *  **\"+'\\t'+ \"********\"  +'\\t'+ \"   **   \" +'\\t'+ \"**    **\" )                                                                                \n",
    "print(Style.NORMAL+Back.RED + Fore.WHITE +\" **     \"+'\\t'+  \"**    **\"  +'\\t'+  \"**    **\"+'\\t'+ \"**    **\"  +'\\t'+ \"   **   \" +'\\t'+ \"**    **\" )                                                                            \n",
    "print(Style.NORMAL+Back.RED + Fore.WHITE +\"********\"+'\\t'+  \"********\"+'\\t'+    \"**    **\"+'\\t'+ \"**    **\"  +'\\t'+ \"   **   \" +'\\t'+ \"********\" )\n",
    "print(Style.NORMAL+Back.RED + Fore.WHITE +\"********\"+'\\t'+  \"********\"+'\\t'+    \"**    **\"+'\\t'+ \"**    **\"  +'\\t'+ \"   **   \" +'\\t'+ \"********\" )"
   ]
  },
  {
   "cell_type": "code",
   "execution_count": 30,
   "metadata": {},
   "outputs": [
    {
     "name": "stdout",
     "output_type": "stream",
     "text": [
      "\u001b[1m\u001b[41m\u001b[37mHello!\n",
      "\u001b[22m\u001b[41m\u001b[37mHello!\n"
     ]
    }
   ],
   "source": [
    "from colorama import Fore, Back, Style\n",
    "print(Style.BRIGHT+Back.RED+Fore.WHITE+\"Hello!\")\n",
    "print(Style.NORMAL+Back.RED+Fore.WHITE+\"Hello!\")"
   ]
  },
  {
   "cell_type": "code",
   "execution_count": null,
   "metadata": {},
   "outputs": [],
   "source": [
    "     \"*************************************\"+'\\t'\n",
    "     \"*                      ********     *\"+'\\t'\n",
    "     \"*                     ***********   *\"+'\\t'                   \n",
    "     \"*   ******************************  *\"+'\\t'\n",
    "     \"*   ******************************  *\"+'\\t'\n",
    "     \"*                    ***********    *\"+'\\t'\n",
    "     \"*                      ********     *\"+'\\t'\n",
    "     \"*                                   *\"+'\\t' \n",
    "     \"*************************************\"+'\\t'"
   ]
  }
 ],
 "metadata": {
  "kernelspec": {
   "display_name": "Python 3",
   "language": "python",
   "name": "python3"
  },
  "language_info": {
   "codemirror_mode": {
    "name": "ipython",
    "version": 3
   },
   "file_extension": ".py",
   "mimetype": "text/x-python",
   "name": "python",
   "nbconvert_exporter": "python",
   "pygments_lexer": "ipython3",
   "version": "3.6.5"
  }
 },
 "nbformat": 4,
 "nbformat_minor": 2
}
